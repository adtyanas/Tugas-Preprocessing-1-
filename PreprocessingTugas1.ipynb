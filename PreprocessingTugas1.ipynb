{
  "nbformat": 4,
  "nbformat_minor": 0,
  "metadata": {
    "colab": {
      "name": "PreprocessingTugas1.ipynb",
      "provenance": []
    },
    "kernelspec": {
      "name": "python3",
      "display_name": "Python 3"
    },
    "language_info": {
      "name": "python"
    }
  },
  "cells": [
    {
      "cell_type": "code",
      "metadata": {
        "id": "uo5Qi62-8Acx"
      },
      "source": [
        "import numpy as np\n",
        "import matplotlib.pyplot as plt\n",
        "import pandas as pd"
      ],
      "execution_count": 6,
      "outputs": []
    },
    {
      "cell_type": "code",
      "metadata": {
        "id": "7mYZZS_hEfKe"
      },
      "source": [
        "dataset = pd.read_csv('Data_anak.csv')\n",
        "x = dataset.iloc[:, :-1].values\n",
        "y = dataset.iloc[:, -1].values"
      ],
      "execution_count": 7,
      "outputs": []
    },
    {
      "cell_type": "code",
      "metadata": {
        "colab": {
          "base_uri": "https://localhost:8080/"
        },
        "id": "T8achdK0HSgm",
        "outputId": "11ef16f5-1328-4e84-e830-f4b204eed956"
      },
      "source": [
        "print(x)"
      ],
      "execution_count": 8,
      "outputs": [
        {
          "output_type": "stream",
          "text": [
            "[['Secang' 10.0 10000.0]\n",
            " ['Grabak' 11.0 15000.0]\n",
            " ['Muntilan' 12.0 20000.0]\n",
            " ['Grabak' 10.0 17000.0]\n",
            " ['Muntilan' 11.0 nan]\n",
            " ['Secang' 10.0 12000.0]\n",
            " ['Grabak' nan 18000.0]\n",
            " ['Secang' 12.0 14000.0]\n",
            " ['Muntilan' 12.0 24000.0]\n",
            " ['Secang' 10.0 13000.0]]\n"
          ],
          "name": "stdout"
        }
      ]
    },
    {
      "cell_type": "code",
      "metadata": {
        "colab": {
          "base_uri": "https://localhost:8080/"
        },
        "id": "6OFEVhGUHkXc",
        "outputId": "f9faa167-0a75-456a-ad36-3d93477448e2"
      },
      "source": [
        "print(y)"
      ],
      "execution_count": 9,
      "outputs": [
        {
          "output_type": "stream",
          "text": [
            "['No' 'Yes' 'No' 'No' 'Yes' 'Yes' 'No' 'Yes' 'No' 'Yes']\n"
          ],
          "name": "stdout"
        }
      ]
    },
    {
      "cell_type": "code",
      "metadata": {
        "id": "yB9pBN8h9kAr"
      },
      "source": [
        "from sklearn.impute import SimpleImputer\n",
        "imputer = SimpleImputer(missing_values=np.nan, strategy='mean')\n",
        "imputer.fit(x[:, 1:3])\n",
        "x[:, 1:3] = imputer.transform(x[:, 1:3])"
      ],
      "execution_count": 10,
      "outputs": []
    },
    {
      "cell_type": "code",
      "metadata": {
        "colab": {
          "base_uri": "https://localhost:8080/"
        },
        "id": "iEv2uXgcIHZb",
        "outputId": "d8ccfcc9-4c8c-4dce-86fa-cf711480c849"
      },
      "source": [
        "print(x)"
      ],
      "execution_count": 11,
      "outputs": [
        {
          "output_type": "stream",
          "text": [
            "[['Secang' 10.0 10000.0]\n",
            " ['Grabak' 11.0 15000.0]\n",
            " ['Muntilan' 12.0 20000.0]\n",
            " ['Grabak' 10.0 17000.0]\n",
            " ['Muntilan' 11.0 15888.888888888889]\n",
            " ['Secang' 10.0 12000.0]\n",
            " ['Grabak' 10.88888888888889 18000.0]\n",
            " ['Secang' 12.0 14000.0]\n",
            " ['Muntilan' 12.0 24000.0]\n",
            " ['Secang' 10.0 13000.0]]\n"
          ],
          "name": "stdout"
        }
      ]
    },
    {
      "cell_type": "code",
      "metadata": {
        "id": "XJDX_4uv-4ZP"
      },
      "source": [
        "from sklearn.compose import ColumnTransformer\n",
        "from sklearn.preprocessing import OneHotEncoder\n",
        "ct = ColumnTransformer(transformers=[('encoder', OneHotEncoder(), [0])], remainder = 'passthrough')\n",
        "x = np.array(ct.fit_transform(x))"
      ],
      "execution_count": 12,
      "outputs": []
    },
    {
      "cell_type": "code",
      "metadata": {
        "colab": {
          "base_uri": "https://localhost:8080/"
        },
        "id": "bPbUG-6HIn1R",
        "outputId": "b92e7567-4b2e-46b1-8e3f-5cba55357d6f"
      },
      "source": [
        "print(x)"
      ],
      "execution_count": 13,
      "outputs": [
        {
          "output_type": "stream",
          "text": [
            "[[0.0 0.0 1.0 10.0 10000.0]\n",
            " [1.0 0.0 0.0 11.0 15000.0]\n",
            " [0.0 1.0 0.0 12.0 20000.0]\n",
            " [1.0 0.0 0.0 10.0 17000.0]\n",
            " [0.0 1.0 0.0 11.0 15888.888888888889]\n",
            " [0.0 0.0 1.0 10.0 12000.0]\n",
            " [1.0 0.0 0.0 10.88888888888889 18000.0]\n",
            " [0.0 0.0 1.0 12.0 14000.0]\n",
            " [0.0 1.0 0.0 12.0 24000.0]\n",
            " [0.0 0.0 1.0 10.0 13000.0]]\n"
          ],
          "name": "stdout"
        }
      ]
    },
    {
      "cell_type": "code",
      "metadata": {
        "id": "WazBq8o3DhP5"
      },
      "source": [
        "from sklearn.preprocessing import LabelEncoder\n",
        "le = LabelEncoder()\n",
        "y = le.fit_transform(y)"
      ],
      "execution_count": 14,
      "outputs": []
    },
    {
      "cell_type": "code",
      "metadata": {
        "colab": {
          "base_uri": "https://localhost:8080/"
        },
        "id": "-Wds1z8zI4So",
        "outputId": "7cb64a1a-f7f5-4345-9d1b-c4b4cc16e7d1"
      },
      "source": [
        "print(y)"
      ],
      "execution_count": 15,
      "outputs": [
        {
          "output_type": "stream",
          "text": [
            "[0 1 0 0 1 1 0 1 0 1]\n"
          ],
          "name": "stdout"
        }
      ]
    },
    {
      "cell_type": "code",
      "metadata": {
        "id": "70jOhYtFDrJV"
      },
      "source": [
        "from sklearn.model_selection import train_test_split\n",
        "x_train, x_test, y_train, y_test = train_test_split(x, y, test_size=0.2, random_state=1)"
      ],
      "execution_count": 16,
      "outputs": []
    },
    {
      "cell_type": "code",
      "metadata": {
        "colab": {
          "base_uri": "https://localhost:8080/"
        },
        "id": "Z1UWCGZzJCZ0",
        "outputId": "bd543853-baf2-4bf6-ff37-957700364891"
      },
      "source": [
        "print(x_train)"
      ],
      "execution_count": 17,
      "outputs": [
        {
          "output_type": "stream",
          "text": [
            "[[1.0 0.0 0.0 10.88888888888889 18000.0]\n",
            " [0.0 1.0 0.0 11.0 15888.888888888889]\n",
            " [0.0 0.0 1.0 10.0 10000.0]\n",
            " [1.0 0.0 0.0 10.0 17000.0]\n",
            " [1.0 0.0 0.0 11.0 15000.0]\n",
            " [0.0 0.0 1.0 12.0 14000.0]\n",
            " [0.0 1.0 0.0 12.0 24000.0]\n",
            " [0.0 0.0 1.0 10.0 12000.0]]\n"
          ],
          "name": "stdout"
        }
      ]
    },
    {
      "cell_type": "code",
      "metadata": {
        "colab": {
          "base_uri": "https://localhost:8080/"
        },
        "id": "IU84hjZnEg8L",
        "outputId": "e89555c4-f481-4a8f-f65e-01e1f9267add"
      },
      "source": [
        "print(x_test)"
      ],
      "execution_count": 18,
      "outputs": [
        {
          "output_type": "stream",
          "text": [
            "[[0.0 1.0 0.0 12.0 20000.0]\n",
            " [0.0 0.0 1.0 10.0 13000.0]]\n"
          ],
          "name": "stdout"
        }
      ]
    },
    {
      "cell_type": "code",
      "metadata": {
        "colab": {
          "base_uri": "https://localhost:8080/"
        },
        "id": "jNTLoafBJNdp",
        "outputId": "2e02ce29-0038-4780-f71c-e8c371674e98"
      },
      "source": [
        "print(y_train)"
      ],
      "execution_count": 19,
      "outputs": [
        {
          "output_type": "stream",
          "text": [
            "[0 1 0 0 1 1 0 1]\n"
          ],
          "name": "stdout"
        }
      ]
    },
    {
      "cell_type": "code",
      "metadata": {
        "colab": {
          "base_uri": "https://localhost:8080/"
        },
        "id": "6MAvndu9JTpq",
        "outputId": "530bad21-0512-4154-bba4-c3815ba098cb"
      },
      "source": [
        "print(y_test)"
      ],
      "execution_count": 20,
      "outputs": [
        {
          "output_type": "stream",
          "text": [
            "[0 1]\n"
          ],
          "name": "stdout"
        }
      ]
    },
    {
      "cell_type": "code",
      "metadata": {
        "id": "ZxyGUHDYE-rR"
      },
      "source": [
        "from sklearn.preprocessing import StandardScaler\n",
        "sc = StandardScaler()\n",
        "x_train[:, 3:] = sc.fit_transform(x_train[:, 3:])\n",
        "x_test[:, 3:] = sc.transform(x_test[:, 3:])"
      ],
      "execution_count": 21,
      "outputs": []
    },
    {
      "cell_type": "code",
      "metadata": {
        "colab": {
          "base_uri": "https://localhost:8080/"
        },
        "id": "JFbtCsNjF0Wf",
        "outputId": "db8e99d5-a11c-4e0f-83cc-d6bfa9df4d69"
      },
      "source": [
        "print(x_train)"
      ],
      "execution_count": 22,
      "outputs": [
        {
          "output_type": "stream",
          "text": [
            "[[1.0 0.0 0.0 0.03564615028997697 0.5716835381378811]\n",
            " [0.0 1.0 0.0 0.1782307514498803 0.03857987067188144]\n",
            " [0.0 0.0 1.0 -1.105030658989254 -1.4484987806806435]\n",
            " [1.0 0.0 0.0 -1.105030658989254 0.31916074828556545]\n",
            " [1.0 0.0 0.0 0.1782307514498803 -0.18588483141906567]\n",
            " [0.0 0.0 1.0 1.4614921618890147 -0.4384076212713813]\n",
            " [0.0 1.0 0.0 1.4614921618890147 2.0868202772517743]\n",
            " [0.0 0.0 1.0 -1.105030658989254 -0.9434532009760124]]\n"
          ],
          "name": "stdout"
        }
      ]
    },
    {
      "cell_type": "code",
      "metadata": {
        "colab": {
          "base_uri": "https://localhost:8080/"
        },
        "id": "bINcg5ZYJkKx",
        "outputId": "92f51ba7-5654-494b-97f2-fc63ebdbaa69"
      },
      "source": [
        "print(x_test)"
      ],
      "execution_count": 23,
      "outputs": [
        {
          "output_type": "stream",
          "text": [
            "[[0.0 1.0 0.0 1.4614921618890147 1.0767291178425122]\n",
            " [0.0 0.0 1.0 -1.105030658989254 -0.6909304111236968]]\n"
          ],
          "name": "stdout"
        }
      ]
    }
  ]
}